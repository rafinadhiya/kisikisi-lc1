{
 "cells": [
  {
   "cell_type": "markdown",
   "metadata": {},
   "source": [
    "# PREFACE"
   ]
  },
  {
   "cell_type": "markdown",
   "metadata": {},
   "source": [
    "## Identity"
   ]
  },
  {
   "cell_type": "markdown",
   "metadata": {},
   "source": [
    "=======================================\n",
    "\n",
    "Kisi-kisi live code 1\n",
    "\n",
    "Nama    : Rafina Dhiya Pradani\n",
    "\n",
    "Batch   : HCK-22\n",
    "\n",
    "======================================="
   ]
  },
  {
   "cell_type": "markdown",
   "metadata": {},
   "source": [
    "#### 1. Buatlah fungsi untuk menghitung `jumlah kalori terbakar` berdasarkan `jenis kegiatan` dan `durasi dalam menit`, dengan ketentuan di bawah:\n",
    "\n",
    "<div align=\"center\">\n",
    "\n",
    "|Kegiatan|Kalori Terbakar per Menit|\n",
    "|--|--|\n",
    "|Berlari|10|\n",
    "|Bersepeda|8|\n",
    "|Berenang|12|\n",
    "\n",
    "\n",
    "</div>\n",
    "\n",
    "contoh:\n",
    "```\n",
    ">>> input: calories_burned(duration=60, exercise='berenang')\n",
    ">>> output: 720\n",
    "\n",
    ">>> input: calories_burned(duration=15, exercise='berlari')\n",
    ">>> output: 150\n",
    "\n",
    ">>> input:calories_burned(duration=20, exercise='bersepeda')\n",
    ">>> output: 160\n",
    "```"
   ]
  },
  {
   "cell_type": "code",
   "execution_count": 1,
   "metadata": {},
   "outputs": [
    {
     "name": "stdout",
     "output_type": "stream",
     "text": [
      "720\n",
      "150\n",
      "160\n",
      "Jenis kegiatan tidak valid.\n"
     ]
    }
   ],
   "source": [
    "# Membuat fungsi calories_burned\n",
    "def calories_burned(duration, exercise):\n",
    "\n",
    "    # Membuat Dictionary yang menyimpan jumlah kalori yang terbakar per menit untuk setiap jenis kegiatan\n",
    "    calories_per_minute = {\n",
    "        'berlari': 10,\n",
    "        'bersepeda': 8,\n",
    "        'berenang': 12\n",
    "    }\n",
    "    \n",
    "    # Memeriksa jika jenis kegiatan yang diberikan terdapat dalam dictionary 'calories_per_minute'\n",
    "    if exercise.lower() in calories_per_minute:\n",
    "\n",
    "        # Mengembalikan jumlah kalori terbakar dengan mengalikan durasi dengan jumlah kalori per menit\n",
    "        return duration * calories_per_minute[exercise.lower()]\n",
    "    \n",
    "    # Keadaan ketika kegiatan tidak dalam daftar\n",
    "    else:\n",
    "        return \"Jenis kegiatan tidak valid.\"\n",
    "\n",
    "# Contoh penggunaan fungsi\n",
    "print(calories_burned(duration=60, exercise='berenang'))    # Menghitung kalori terbakar untuk berenang selama 60 menit\n",
    "print(calories_burned(duration=15, exercise='berlari'))     # Menghitung kalori terbakar untuk berlari selama 15 menit\n",
    "print(calories_burned(duration=20, exercise='bersepeda'))   # Menghitung kalori terbakar untuk bersepeda selama 20 menit\n",
    "print(calories_burned(duration=20, exercise='zumba'))       # Menghitung kalori terbakar untuk zumba selama 20 menit"
   ]
  },
  {
   "cell_type": "markdown",
   "metadata": {},
   "source": [
    "#### 2. Buat function untuk menghitung `total kalori terbakar` dari `beberapa sesi latihan`, manfaatkan fungsi yang telah dibuat sebelumnya di dalam function ini.\n",
    "\n",
    "Notes:\n",
    "- Dalam kasus ini diasumsikan setiap sesi latihan memiliki durasi yang sama (`each_session_duration`).\n",
    "- Function yang dibuat memiliki input argumen berupa: `n-length jenis latihan yang dilakukan di setiap sesinya` dan `each_session_duration`\n",
    "- Manfaatkan `*args` variable-length input untuk memasukkan jenis latihan.\n",
    "- Manfaatkan function yang telah dibuat sebelumnya untuk mengitung kalori terbakar di setiap sesi\n",
    "\n",
    "Contoh:\n",
    "```\n",
    ">>> input: total_session_burned_cal('berenang', 'bersepeda', each_session_duration=10)\n",
    ">>> output: 200\n",
    "\n",
    "penjelasan:\n",
    "kegiatan berenang dilakukan 10 menit dan kegiatan bersepeda dilakukan 10 menit dapat membakar total 200 kalori\n",
    "\n",
    ">>> input: total_session_burned_cal('berenang', 'berlari', 'bersepeda', each_session_duration=5)\n",
    ">>> output: 150\n",
    "\n",
    "penjelasan:\n",
    "kegiatan berenang, berlari dan bersepeda yang masing-masing dilakukan 5 menit dapat membakar 150 kalori.\n",
    "```"
   ]
  },
  {
   "cell_type": "code",
   "execution_count": 2,
   "metadata": {},
   "outputs": [
    {
     "name": "stdout",
     "output_type": "stream",
     "text": [
      "200\n",
      "150\n"
     ]
    }
   ],
   "source": [
    "# Membuat fungsi total session burned calorie\n",
    "def total_session_burned_cal(each_session_duration, *exercises):\n",
    "\n",
    "    # Inisialisasi variabel total_calories untuk menyimpan total kalori terbakar\n",
    "    total_calories = 0\n",
    "\n",
    "    # Loop melalui setiap jenis latihan dalam *exercises\n",
    "    for exercise in exercises:\n",
    "        \n",
    "        # Menghitung jumlah kalori terbakar untuk setiap jenis latihan dalam setiap sesi dengan memanggil fungsi calories_burned\n",
    "        total_calories += calories_burned(each_session_duration, exercise)\n",
    "\n",
    "    # Mengembalikan total kalori terbakar dari semua sesi latihan\n",
    "    return total_calories\n",
    "\n",
    "# Contoh penggunaan fungsi\n",
    "print(total_session_burned_cal(10, 'berenang', 'bersepeda'))            # Menghitung total kalori terbakar dari sesi berenang dan bersepeda selama 10 menit masing-masing\n",
    "print(total_session_burned_cal(5, 'berenang', 'berlari', 'bersepeda'))  # Menghitung total kalori terbakar dari sesi berenang, berlari, dan bersepeda selama 5 menit masing-masing"
   ]
  },
  {
   "cell_type": "markdown",
   "metadata": {},
   "source": [
    "#### 3. Lakukan Unit Testing pada kedua function yang telah dibuat.\n",
    "\n",
    "  ***Notes:***\n",
    "  \n",
    "  Pengujian Unit testing dapat dilakukan pada cell .ipynb dengan cara:\n",
    "- Cukup buat cell baru dan tulis code kerangka unit test di cell tersebut dan jalankan langsung di cell tanpa menggunakan if __name__()=='__main__'.\n",
    "\n",
    "- Sebagai pengganti idiom ini:\n",
    "```\n",
    "`if __name__=='__main__'`:\n",
    "   unittest.main()\n",
    "```\n",
    "dapat menggunakan:\n",
    "```\n",
    "unittest.main(argv=[''], exit=False)\n",
    "```"
   ]
  },
  {
   "cell_type": "code",
   "execution_count": 3,
   "metadata": {},
   "outputs": [
    {
     "name": "stderr",
     "output_type": "stream",
     "text": [
      "..\n",
      "----------------------------------------------------------------------\n",
      "Ran 2 tests in 0.003s\n",
      "\n",
      "OK\n"
     ]
    },
    {
     "data": {
      "text/plain": [
       "<unittest.main.TestProgram at 0x1fd79f21a30>"
      ]
     },
     "execution_count": 3,
     "metadata": {},
     "output_type": "execute_result"
    }
   ],
   "source": [
    "import unittest\n",
    "\n",
    "# # Import fungsi yang akan diuji (jika beda file)\n",
    "# from <nama file tanpa py> import calories_burned, total_session_burned_cal\n",
    "\n",
    "# Membuat kelas TestCaloriesBurned untuk unit testing fungsi calories_burned\n",
    "class TestCaloriesBurned(unittest.TestCase):\n",
    "    \n",
    "    # Metode test_calories_burned untuk menguji fungsi calories_burned\n",
    "    def test_calories_burned(self):\n",
    "\n",
    "        # Memastikan output fungsi sesuai dengan yang diharapkan untuk kasus tes tertentu yang kita pilih bebas\n",
    "        self.assertEqual(calories_burned(60, 'berenang'), 720)\n",
    "        self.assertEqual(calories_burned(15, 'berlari'), 150)\n",
    "        self.assertEqual(calories_burned(20, 'bersepeda'), 160)\n",
    "        self.assertEqual(calories_burned(30, 'jogging'), \"Jenis kegiatan tidak valid.\")\n",
    "\n",
    "# Membuat kelas TestTotalSessionBurnedCal untuk unit testing fungsi total_session_burned_cal\n",
    "class TestTotalSessionBurnedCal(unittest.TestCase):\n",
    "    \n",
    "    # Metode test_total_session_burned_cal untuk menguji fungsi total_session_burned_cal\n",
    "    def test_total_session_burned_cal(self):\n",
    "\n",
    "        # Memastikan output fungsi sesuai dengan yang diharapkan untuk kasus tes tertentu yang kita pilih bebas\n",
    "        self.assertEqual(total_session_burned_cal(10, 'berenang', 'bersepeda'), 200)\n",
    "        self.assertEqual(total_session_burned_cal(5, 'berenang', 'berlari', 'bersepeda'), 150)\n",
    "\n",
    "# Menjalankan unit testing\n",
    "# if __name__ == '__main__':\n",
    "unittest.main(argv=[''], exit=False)"
   ]
  }
 ],
 "metadata": {
  "kernelspec": {
   "display_name": "base",
   "language": "python",
   "name": "python3"
  },
  "language_info": {
   "codemirror_mode": {
    "name": "ipython",
    "version": 3
   },
   "file_extension": ".py",
   "mimetype": "text/x-python",
   "name": "python",
   "nbconvert_exporter": "python",
   "pygments_lexer": "ipython3",
   "version": "3.12.4"
  }
 },
 "nbformat": 4,
 "nbformat_minor": 2
}
